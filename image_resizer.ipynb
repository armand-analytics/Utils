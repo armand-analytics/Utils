{
 "cells": [
  {
   "cell_type": "code",
   "execution_count": null,
   "metadata": {},
   "outputs": [],
   "source": [
    "# redimensionar imagenes\n",
    "\n",
    "import cv2\n",
    "\n",
    "# Leer la imagen desde la ruta especificada\n",
    "x = cv2.imread(r'C:\\Users\\ARMANDO\\Downloads\\img211.png')\n",
    "\n",
    "# Verificar las dimensiones de la imagen original\n",
    "print(f'Dimensiones originales: {x.shape}')\n",
    "\n",
    "# Redimensionar la imagen a la mitad de su tamaño original\n",
    "x = cv2.resize(x, None, fx=0.5, fy=0.5)\n",
    "\n",
    "# Verificar las dimensiones de la imagen redimensionada\n",
    "print(f'Dimensiones redimensionadas: {x.shape}')\n",
    "\n",
    "# Mostrar la imagen redimensionada en una ventana\n",
    "cv2.imshow('imagen', x)\n",
    "\n",
    "# Esperar hasta que se presione cualquier tecla para cerrar la ventana\n",
    "cv2.waitKey(0)\n",
    "cv2.destroyAllWindows()\n",
    "cv2.imwrite(r'C:\\Users\\ARMANDO\\Downloads\\img211_resized.png', x)"
   ]
  }
 ],
 "metadata": {
  "language_info": {
   "name": "python"
  }
 },
 "nbformat": 4,
 "nbformat_minor": 2
}
